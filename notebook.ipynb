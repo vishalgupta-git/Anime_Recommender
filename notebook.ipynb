{
 "cells": [
  {
   "cell_type": "code",
   "execution_count": 57,
   "id": "fb8560c5",
   "metadata": {},
   "outputs": [],
   "source": [
    "import pandas as pd\n",
    "import numpy as np\n",
    "import kaggle\n",
    "import os,requests\n",
    "import warnings\n",
    "warnings.filterwarnings('ignore')"
   ]
  },
  {
   "cell_type": "code",
   "execution_count": 58,
   "id": "482fdade",
   "metadata": {},
   "outputs": [
    {
     "name": "stdout",
     "output_type": "stream",
     "text": [
      "top_15000_anime.csv\n",
      "Dataset URL: https://www.kaggle.com/datasets/quanthan/top-15000-ranked-anime-dataset-update-to-32025\n",
      "Downloading top_15000_anime.csv to ./datasets\n"
     ]
    },
    {
     "name": "stderr",
     "output_type": "stream",
     "text": [
      "100%|██████████| 12.1M/12.1M [00:00<00:00, 265MB/s]"
     ]
    },
    {
     "name": "stdout",
     "output_type": "stream",
     "text": [
      "\n"
     ]
    },
    {
     "name": "stderr",
     "output_type": "stream",
     "text": [
      "\n"
     ]
    }
   ],
   "source": [
    "dataset = 'quanthan/top-15000-ranked-anime-dataset-update-to-32025'\n",
    "files=kaggle.api.dataset_list_files(dataset).files\n",
    "for _ in files:\n",
    "    print(_.name)\n",
    "    kaggle.api.dataset_download_file(dataset=dataset,file_name=_.name,path='./datasets/',quiet=False)"
   ]
  },
  {
   "cell_type": "code",
   "execution_count": 59,
   "id": "0547bb48",
   "metadata": {},
   "outputs": [
    {
     "data": {
      "text/plain": [
       "['top_15000_anime.csv']"
      ]
     },
     "execution_count": 59,
     "metadata": {},
     "output_type": "execute_result"
    }
   ],
   "source": [
    "os.listdir('./datasets')"
   ]
  },
  {
   "cell_type": "code",
   "execution_count": 60,
   "id": "c0a6fa58",
   "metadata": {},
   "outputs": [
    {
     "data": {
      "text/html": [
       "<div>\n",
       "<style scoped>\n",
       "    .dataframe tbody tr th:only-of-type {\n",
       "        vertical-align: middle;\n",
       "    }\n",
       "\n",
       "    .dataframe tbody tr th {\n",
       "        vertical-align: top;\n",
       "    }\n",
       "\n",
       "    .dataframe thead th {\n",
       "        text-align: right;\n",
       "    }\n",
       "</style>\n",
       "<table border=\"1\" class=\"dataframe\">\n",
       "  <thead>\n",
       "    <tr style=\"text-align: right;\">\n",
       "      <th></th>\n",
       "      <th>anime_id</th>\n",
       "      <th>anime_url</th>\n",
       "      <th>image_url</th>\n",
       "      <th>name</th>\n",
       "      <th>english_name</th>\n",
       "      <th>japanese_names</th>\n",
       "      <th>score</th>\n",
       "      <th>genres</th>\n",
       "      <th>themes</th>\n",
       "      <th>demographics</th>\n",
       "      <th>...</th>\n",
       "      <th>producers</th>\n",
       "      <th>studios</th>\n",
       "      <th>source</th>\n",
       "      <th>duration</th>\n",
       "      <th>rating</th>\n",
       "      <th>rank</th>\n",
       "      <th>popularity</th>\n",
       "      <th>favorites</th>\n",
       "      <th>scored_by</th>\n",
       "      <th>members</th>\n",
       "    </tr>\n",
       "  </thead>\n",
       "  <tbody>\n",
       "    <tr>\n",
       "      <th>0</th>\n",
       "      <td>52991</td>\n",
       "      <td>https://myanimelist.net/anime/52991/Sousou_no_...</td>\n",
       "      <td>https://cdn.myanimelist.net/images/anime/1015/...</td>\n",
       "      <td>Sousou no Frieren</td>\n",
       "      <td>Frieren: Beyond Journey's End</td>\n",
       "      <td>葬送のフリーレン</td>\n",
       "      <td>9.29</td>\n",
       "      <td>Adventure, Drama, Fantasy</td>\n",
       "      <td>NaN</td>\n",
       "      <td>Shounen</td>\n",
       "      <td>...</td>\n",
       "      <td>Aniplex, Dentsu, Shogakukan-Shueisha Productio...</td>\n",
       "      <td>Madhouse</td>\n",
       "      <td>Manga</td>\n",
       "      <td>24 min per ep</td>\n",
       "      <td>PG-13 - Teens 13 or older</td>\n",
       "      <td>1.0</td>\n",
       "      <td>128</td>\n",
       "      <td>76513</td>\n",
       "      <td>734207.0</td>\n",
       "      <td>1225468</td>\n",
       "    </tr>\n",
       "    <tr>\n",
       "      <th>1</th>\n",
       "      <td>5114</td>\n",
       "      <td>https://myanimelist.net/anime/5114/Fullmetal_A...</td>\n",
       "      <td>https://cdn.myanimelist.net/images/anime/1208/...</td>\n",
       "      <td>Fullmetal Alchemist: Brotherhood</td>\n",
       "      <td>Fullmetal Alchemist: Brotherhood</td>\n",
       "      <td>鋼の錬金術師 FULLMETAL ALCHEMIST</td>\n",
       "      <td>9.10</td>\n",
       "      <td>Action, Adventure, Drama, Fantasy</td>\n",
       "      <td>Military</td>\n",
       "      <td>Shounen</td>\n",
       "      <td>...</td>\n",
       "      <td>Aniplex, Square Enix, Mainichi Broadcasting Sy...</td>\n",
       "      <td>Bones</td>\n",
       "      <td>Manga</td>\n",
       "      <td>24 min per ep</td>\n",
       "      <td>R - 17+ (violence &amp; profanity)</td>\n",
       "      <td>2.0</td>\n",
       "      <td>3</td>\n",
       "      <td>236798</td>\n",
       "      <td>2249670.0</td>\n",
       "      <td>3577489</td>\n",
       "    </tr>\n",
       "    <tr>\n",
       "      <th>2</th>\n",
       "      <td>9253</td>\n",
       "      <td>https://myanimelist.net/anime/9253/Steins_Gate</td>\n",
       "      <td>https://cdn.myanimelist.net/images/anime/1935/...</td>\n",
       "      <td>Steins;Gate</td>\n",
       "      <td>Steins;Gate</td>\n",
       "      <td>STEINS;GATE</td>\n",
       "      <td>9.07</td>\n",
       "      <td>Drama, Sci-Fi, Suspense</td>\n",
       "      <td>Psychological, Time Travel</td>\n",
       "      <td>NaN</td>\n",
       "      <td>...</td>\n",
       "      <td>Frontier Works, Media Factory, Kadokawa Shoten...</td>\n",
       "      <td>White Fox</td>\n",
       "      <td>Visual novel</td>\n",
       "      <td>24 min per ep</td>\n",
       "      <td>PG-13 - Teens 13 or older</td>\n",
       "      <td>3.0</td>\n",
       "      <td>14</td>\n",
       "      <td>198296</td>\n",
       "      <td>1483605.0</td>\n",
       "      <td>2737980</td>\n",
       "    </tr>\n",
       "    <tr>\n",
       "      <th>3</th>\n",
       "      <td>38524</td>\n",
       "      <td>https://myanimelist.net/anime/38524/Shingeki_n...</td>\n",
       "      <td>https://cdn.myanimelist.net/images/anime/1517/...</td>\n",
       "      <td>Shingeki no Kyojin Season 3 Part 2</td>\n",
       "      <td>Attack on Titan Season 3 Part 2</td>\n",
       "      <td>進撃の巨人 Season3 Part.2</td>\n",
       "      <td>9.05</td>\n",
       "      <td>Action, Drama, Suspense</td>\n",
       "      <td>Gore, Military, Survival</td>\n",
       "      <td>Shounen</td>\n",
       "      <td>...</td>\n",
       "      <td>Production I.G, Dentsu, Mainichi Broadcasting ...</td>\n",
       "      <td>Wit Studio</td>\n",
       "      <td>Manga</td>\n",
       "      <td>23 min per ep</td>\n",
       "      <td>R - 17+ (violence &amp; profanity)</td>\n",
       "      <td>4.0</td>\n",
       "      <td>21</td>\n",
       "      <td>61832</td>\n",
       "      <td>1729484.0</td>\n",
       "      <td>2497671</td>\n",
       "    </tr>\n",
       "    <tr>\n",
       "      <th>4</th>\n",
       "      <td>28977</td>\n",
       "      <td>https://myanimelist.net/anime/28977/Gintama°</td>\n",
       "      <td>https://cdn.myanimelist.net/images/anime/3/720...</td>\n",
       "      <td>Gintama°</td>\n",
       "      <td>Gintama Season 4</td>\n",
       "      <td>銀魂°</td>\n",
       "      <td>9.05</td>\n",
       "      <td>Action, Comedy, Sci-Fi</td>\n",
       "      <td>Gag Humor, Historical, Parody, Samurai</td>\n",
       "      <td>Shounen</td>\n",
       "      <td>...</td>\n",
       "      <td>TV Tokyo, Aniplex, Dentsu</td>\n",
       "      <td>Bandai Namco Pictures</td>\n",
       "      <td>Manga</td>\n",
       "      <td>24 min per ep</td>\n",
       "      <td>PG-13 - Teens 13 or older</td>\n",
       "      <td>6.0</td>\n",
       "      <td>344</td>\n",
       "      <td>17315</td>\n",
       "      <td>266825.0</td>\n",
       "      <td>676352</td>\n",
       "    </tr>\n",
       "  </tbody>\n",
       "</table>\n",
       "<p>5 rows × 24 columns</p>\n",
       "</div>"
      ],
      "text/plain": [
       "   anime_id                                          anime_url  \\\n",
       "0     52991  https://myanimelist.net/anime/52991/Sousou_no_...   \n",
       "1      5114  https://myanimelist.net/anime/5114/Fullmetal_A...   \n",
       "2      9253     https://myanimelist.net/anime/9253/Steins_Gate   \n",
       "3     38524  https://myanimelist.net/anime/38524/Shingeki_n...   \n",
       "4     28977       https://myanimelist.net/anime/28977/Gintama°   \n",
       "\n",
       "                                           image_url  \\\n",
       "0  https://cdn.myanimelist.net/images/anime/1015/...   \n",
       "1  https://cdn.myanimelist.net/images/anime/1208/...   \n",
       "2  https://cdn.myanimelist.net/images/anime/1935/...   \n",
       "3  https://cdn.myanimelist.net/images/anime/1517/...   \n",
       "4  https://cdn.myanimelist.net/images/anime/3/720...   \n",
       "\n",
       "                                 name                      english_name  \\\n",
       "0                   Sousou no Frieren     Frieren: Beyond Journey's End   \n",
       "1    Fullmetal Alchemist: Brotherhood  Fullmetal Alchemist: Brotherhood   \n",
       "2                         Steins;Gate                       Steins;Gate   \n",
       "3  Shingeki no Kyojin Season 3 Part 2   Attack on Titan Season 3 Part 2   \n",
       "4                            Gintama°                  Gintama Season 4   \n",
       "\n",
       "               japanese_names  score                             genres  \\\n",
       "0                    葬送のフリーレン   9.29          Adventure, Drama, Fantasy   \n",
       "1  鋼の錬金術師 FULLMETAL ALCHEMIST   9.10  Action, Adventure, Drama, Fantasy   \n",
       "2                 STEINS;GATE   9.07            Drama, Sci-Fi, Suspense   \n",
       "3        進撃の巨人 Season3 Part.2   9.05            Action, Drama, Suspense   \n",
       "4                         銀魂°   9.05             Action, Comedy, Sci-Fi   \n",
       "\n",
       "                                   themes demographics  ...  \\\n",
       "0                                     NaN      Shounen  ...   \n",
       "1                                Military      Shounen  ...   \n",
       "2              Psychological, Time Travel          NaN  ...   \n",
       "3                Gore, Military, Survival      Shounen  ...   \n",
       "4  Gag Humor, Historical, Parody, Samurai      Shounen  ...   \n",
       "\n",
       "                                           producers                studios  \\\n",
       "0  Aniplex, Dentsu, Shogakukan-Shueisha Productio...               Madhouse   \n",
       "1  Aniplex, Square Enix, Mainichi Broadcasting Sy...                  Bones   \n",
       "2  Frontier Works, Media Factory, Kadokawa Shoten...              White Fox   \n",
       "3  Production I.G, Dentsu, Mainichi Broadcasting ...             Wit Studio   \n",
       "4                          TV Tokyo, Aniplex, Dentsu  Bandai Namco Pictures   \n",
       "\n",
       "         source       duration                          rating rank  \\\n",
       "0         Manga  24 min per ep       PG-13 - Teens 13 or older  1.0   \n",
       "1         Manga  24 min per ep  R - 17+ (violence & profanity)  2.0   \n",
       "2  Visual novel  24 min per ep       PG-13 - Teens 13 or older  3.0   \n",
       "3         Manga  23 min per ep  R - 17+ (violence & profanity)  4.0   \n",
       "4         Manga  24 min per ep       PG-13 - Teens 13 or older  6.0   \n",
       "\n",
       "  popularity favorites  scored_by  members  \n",
       "0        128     76513   734207.0  1225468  \n",
       "1          3    236798  2249670.0  3577489  \n",
       "2         14    198296  1483605.0  2737980  \n",
       "3         21     61832  1729484.0  2497671  \n",
       "4        344     17315   266825.0   676352  \n",
       "\n",
       "[5 rows x 24 columns]"
      ]
     },
     "execution_count": 60,
     "metadata": {},
     "output_type": "execute_result"
    }
   ],
   "source": [
    "df = pd.read_csv('./datasets/top_15000_anime.csv')\n",
    "df.head()"
   ]
  },
  {
   "cell_type": "code",
   "execution_count": 61,
   "id": "23ff9fce",
   "metadata": {},
   "outputs": [
    {
     "name": "stdout",
     "output_type": "stream",
     "text": [
      "3\n"
     ]
    }
   ],
   "source": [
    "print(df.duplicated().sum())\n",
    "df.drop_duplicates(inplace=True)"
   ]
  },
  {
   "cell_type": "code",
   "execution_count": 62,
   "id": "edd6fdad",
   "metadata": {},
   "outputs": [
    {
     "name": "stdout",
     "output_type": "stream",
     "text": [
      "<class 'pandas.core.frame.DataFrame'>\n",
      "Index: 14997 entries, 0 to 14999\n",
      "Data columns (total 24 columns):\n",
      " #   Column          Non-Null Count  Dtype  \n",
      "---  ------          --------------  -----  \n",
      " 0   anime_id        14997 non-null  int64  \n",
      " 1   anime_url       14997 non-null  object \n",
      " 2   image_url       14997 non-null  object \n",
      " 3   name            14997 non-null  object \n",
      " 4   english_name    8745 non-null   object \n",
      " 5   japanese_names  14963 non-null  object \n",
      " 6   score           14997 non-null  float64\n",
      " 7   genres          14379 non-null  object \n",
      " 8   themes          9164 non-null   object \n",
      " 9   demographics    4618 non-null   object \n",
      " 10  synopsis        14483 non-null  object \n",
      " 11  type            14997 non-null  object \n",
      " 12  episodes        14886 non-null  float64\n",
      " 13  premiered       5012 non-null   object \n",
      " 14  producers       9928 non-null   object \n",
      " 15  studios         13244 non-null  object \n",
      " 16  source          14997 non-null  object \n",
      " 17  duration        14997 non-null  object \n",
      " 18  rating          14918 non-null  object \n",
      " 19  rank            13476 non-null  float64\n",
      " 20  popularity      14997 non-null  int64  \n",
      " 21  favorites       14997 non-null  int64  \n",
      " 22  scored_by       14997 non-null  float64\n",
      " 23  members         14997 non-null  int64  \n",
      "dtypes: float64(4), int64(4), object(16)\n",
      "memory usage: 2.9+ MB\n"
     ]
    }
   ],
   "source": [
    "df.info()"
   ]
  },
  {
   "cell_type": "code",
   "execution_count": 63,
   "id": "d2aafe4f",
   "metadata": {},
   "outputs": [
    {
     "data": {
      "text/plain": [
       "anime_id              0\n",
       "anime_url             0\n",
       "image_url             0\n",
       "name                  0\n",
       "english_name       6252\n",
       "japanese_names       34\n",
       "score                 0\n",
       "genres              618\n",
       "themes             5833\n",
       "demographics      10379\n",
       "synopsis            514\n",
       "type                  0\n",
       "episodes            111\n",
       "premiered          9985\n",
       "producers          5069\n",
       "studios            1753\n",
       "source                0\n",
       "duration              0\n",
       "rating               79\n",
       "rank               1521\n",
       "popularity            0\n",
       "favorites             0\n",
       "scored_by             0\n",
       "members               0\n",
       "dtype: int64"
      ]
     },
     "execution_count": 63,
     "metadata": {},
     "output_type": "execute_result"
    }
   ],
   "source": [
    "df.isna().sum()"
   ]
  },
  {
   "cell_type": "code",
   "execution_count": 64,
   "id": "31e0d257",
   "metadata": {},
   "outputs": [
    {
     "data": {
      "text/plain": [
       "Index(['anime_id', 'anime_url', 'image_url', 'name', 'english_name',\n",
       "       'japanese_names', 'score', 'genres', 'themes', 'demographics',\n",
       "       'synopsis', 'type', 'episodes', 'premiered', 'producers', 'studios',\n",
       "       'source', 'duration', 'rating', 'rank', 'popularity', 'favorites',\n",
       "       'scored_by', 'members'],\n",
       "      dtype='object')"
      ]
     },
     "execution_count": 64,
     "metadata": {},
     "output_type": "execute_result"
    }
   ],
   "source": [
    "df.columns"
   ]
  },
  {
   "cell_type": "code",
   "execution_count": 65,
   "id": "ef6c7e0c",
   "metadata": {},
   "outputs": [],
   "source": [
    "df.english_name.fillna(df.name,inplace=True)"
   ]
  },
  {
   "cell_type": "code",
   "execution_count": 66,
   "id": "b2560225",
   "metadata": {},
   "outputs": [],
   "source": [
    "# dropping unwanted columns\n",
    "df.drop(columns=['name','japanese_names'],inplace=True)\n",
    "df.rename(columns={'english_name':'title'},inplace=True)"
   ]
  },
  {
   "cell_type": "code",
   "execution_count": 67,
   "id": "8191c431",
   "metadata": {},
   "outputs": [],
   "source": [
    "df.title =  df.title.str.lower().str.strip()"
   ]
  },
  {
   "cell_type": "code",
   "execution_count": 68,
   "id": "fc12140e",
   "metadata": {},
   "outputs": [],
   "source": [
    "df['content_features'] = (\n",
    "    df['genres'].fillna('') + ' ' +\n",
    "    df['themes'].fillna('') + ' ' +\n",
    "    df['demographics'].fillna('') + ' ' +\n",
    "    df['synopsis'].fillna('') + ' ' +\n",
    "    df['producers'].fillna('') + ' ' +\n",
    "    df['studios'].fillna('') + ' ' +\n",
    "    df['rating'].fillna('')\n",
    ")\n",
    "\n",
    "df['content_features'] = df['content_features'].str.lower().str.strip()"
   ]
  },
  {
   "cell_type": "code",
   "execution_count": 69,
   "id": "08b941ab",
   "metadata": {},
   "outputs": [
    {
     "name": "stdout",
     "output_type": "stream",
     "text": [
      "0\n"
     ]
    }
   ],
   "source": [
    "print(df['content_features'].isna().sum())  "
   ]
  },
  {
   "cell_type": "code",
   "execution_count": 70,
   "id": "ea972341",
   "metadata": {},
   "outputs": [],
   "source": [
    "df.title.duplicated().sum()\n",
    "df.drop_duplicates(subset='title', keep='first', inplace=True)"
   ]
  },
  {
   "cell_type": "code",
   "execution_count": 71,
   "id": "d501a476",
   "metadata": {},
   "outputs": [],
   "source": [
    "df.to_csv('./datasets/cleaned.csv',index=False)"
   ]
  },
  {
   "cell_type": "code",
   "execution_count": 76,
   "id": "11601d59",
   "metadata": {},
   "outputs": [],
   "source": [
    "def recommend(title, top_n=5):\n",
    "    import pandas as pd\n",
    "    from sklearn.feature_extraction.text import TfidfVectorizer\n",
    "    from sklearn.metrics.pairwise import cosine_similarity\n",
    "\n",
    "    df = pd.read_csv('./datasets/cleaned.csv')\n",
    "    df = df.drop_duplicates(subset=['content_features'])\n",
    "    df['content_features'] = df['content_features'].fillna('')\n",
    "\n",
    "    df['title'] = df['title'].str.lower()\n",
    "\n",
    "    tfidf = TfidfVectorizer(stop_words='english')\n",
    "    tfidf_matrix = tfidf.fit_transform(df['content_features'])\n",
    "    cosine_sim = cosine_similarity(tfidf_matrix, tfidf_matrix)\n",
    "\n",
    "    sim_df = pd.DataFrame(cosine_sim, index=df['title'], columns=df['title'])\n",
    "\n",
    "    title = title.strip().lower()\n",
    "\n",
    "    if title not in sim_df.columns:\n",
    "        return f\"Title '{title}' not found in the dataset.\"\n",
    "\n",
    "    scores = sim_df[title].sort_values(ascending=False).iloc[1:top_n+1]\n",
    "    recommended_titles = scores.index.tolist()\n",
    "\n",
    "    recommendations = df[df['title'].isin(recommended_titles)][['title', 'image_url','anime_url']]\n",
    "    recommendations = recommendations.set_index('title').loc[recommended_titles].reset_index()\n",
    "    recommendations['score'] = recommendations['title'].map(scores)\n",
    "\n",
    "    return recommendations\n"
   ]
  },
  {
   "cell_type": "code",
   "execution_count": 77,
   "id": "b14cab52",
   "metadata": {},
   "outputs": [
    {
     "data": {
      "text/html": [
       "<div>\n",
       "<style scoped>\n",
       "    .dataframe tbody tr th:only-of-type {\n",
       "        vertical-align: middle;\n",
       "    }\n",
       "\n",
       "    .dataframe tbody tr th {\n",
       "        vertical-align: top;\n",
       "    }\n",
       "\n",
       "    .dataframe thead th {\n",
       "        text-align: right;\n",
       "    }\n",
       "</style>\n",
       "<table border=\"1\" class=\"dataframe\">\n",
       "  <thead>\n",
       "    <tr style=\"text-align: right;\">\n",
       "      <th></th>\n",
       "      <th>title</th>\n",
       "      <th>image_url</th>\n",
       "      <th>anime_url</th>\n",
       "      <th>score</th>\n",
       "    </tr>\n",
       "  </thead>\n",
       "  <tbody>\n",
       "    <tr>\n",
       "      <th>0</th>\n",
       "      <td>dragon ball z kai</td>\n",
       "      <td>https://cdn.myanimelist.net/images/anime/1102/...</td>\n",
       "      <td>https://myanimelist.net/anime/6033/Dragon_Ball...</td>\n",
       "      <td>0.403701</td>\n",
       "    </tr>\n",
       "    <tr>\n",
       "      <th>1</th>\n",
       "      <td>dragon ball gt</td>\n",
       "      <td>https://cdn.myanimelist.net/images/anime/1262/...</td>\n",
       "      <td>https://myanimelist.net/anime/225/Dragon_Ball_GT</td>\n",
       "      <td>0.339313</td>\n",
       "    </tr>\n",
       "    <tr>\n",
       "      <th>2</th>\n",
       "      <td>dragon ball z</td>\n",
       "      <td>https://cdn.myanimelist.net/images/anime/1277/...</td>\n",
       "      <td>https://myanimelist.net/anime/813/Dragon_Ball_Z</td>\n",
       "      <td>0.333132</td>\n",
       "    </tr>\n",
       "    <tr>\n",
       "      <th>3</th>\n",
       "      <td>dragon ball: mystical adventure</td>\n",
       "      <td>https://cdn.myanimelist.net/images/anime/1825/...</td>\n",
       "      <td>https://myanimelist.net/anime/892/Dragon_Ball_...</td>\n",
       "      <td>0.294592</td>\n",
       "    </tr>\n",
       "    <tr>\n",
       "      <th>4</th>\n",
       "      <td>dragon ball: curse of the blood rubies</td>\n",
       "      <td>https://cdn.myanimelist.net/images/anime/1992/...</td>\n",
       "      <td>https://myanimelist.net/anime/502/Dragon_Ball_...</td>\n",
       "      <td>0.268091</td>\n",
       "    </tr>\n",
       "  </tbody>\n",
       "</table>\n",
       "</div>"
      ],
      "text/plain": [
       "                                    title  \\\n",
       "0                       dragon ball z kai   \n",
       "1                          dragon ball gt   \n",
       "2                           dragon ball z   \n",
       "3         dragon ball: mystical adventure   \n",
       "4  dragon ball: curse of the blood rubies   \n",
       "\n",
       "                                           image_url  \\\n",
       "0  https://cdn.myanimelist.net/images/anime/1102/...   \n",
       "1  https://cdn.myanimelist.net/images/anime/1262/...   \n",
       "2  https://cdn.myanimelist.net/images/anime/1277/...   \n",
       "3  https://cdn.myanimelist.net/images/anime/1825/...   \n",
       "4  https://cdn.myanimelist.net/images/anime/1992/...   \n",
       "\n",
       "                                           anime_url     score  \n",
       "0  https://myanimelist.net/anime/6033/Dragon_Ball...  0.403701  \n",
       "1   https://myanimelist.net/anime/225/Dragon_Ball_GT  0.339313  \n",
       "2    https://myanimelist.net/anime/813/Dragon_Ball_Z  0.333132  \n",
       "3  https://myanimelist.net/anime/892/Dragon_Ball_...  0.294592  \n",
       "4  https://myanimelist.net/anime/502/Dragon_Ball_...  0.268091  "
      ]
     },
     "execution_count": 77,
     "metadata": {},
     "output_type": "execute_result"
    }
   ],
   "source": [
    "recommend('dragon ball')"
   ]
  },
  {
   "cell_type": "code",
   "execution_count": 74,
   "id": "8628e6ac",
   "metadata": {},
   "outputs": [],
   "source": [
    "df=pd.read_csv('./datasets/cleaned.csv')"
   ]
  },
  {
   "cell_type": "code",
   "execution_count": 75,
   "id": "aa6217ae",
   "metadata": {},
   "outputs": [
    {
     "data": {
      "text/plain": [
       "np.int64(0)"
      ]
     },
     "execution_count": 75,
     "metadata": {},
     "output_type": "execute_result"
    }
   ],
   "source": [
    "df.title.duplicated().sum()"
   ]
  }
 ],
 "metadata": {
  "kernelspec": {
   "display_name": "Python 3",
   "language": "python",
   "name": "python3"
  },
  "language_info": {
   "codemirror_mode": {
    "name": "ipython",
    "version": 3
   },
   "file_extension": ".py",
   "mimetype": "text/x-python",
   "name": "python",
   "nbconvert_exporter": "python",
   "pygments_lexer": "ipython3",
   "version": "3.13.3"
  }
 },
 "nbformat": 4,
 "nbformat_minor": 5
}
